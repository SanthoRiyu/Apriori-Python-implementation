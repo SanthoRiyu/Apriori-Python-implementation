{
 "cells": [
  {
   "cell_type": "markdown",
   "metadata": {},
   "source": [
    "# Apriori"
   ]
  },
  {
   "cell_type": "markdown",
   "metadata": {},
   "source": [
    "## Input"
   ]
  },
  {
   "cell_type": "code",
   "execution_count": null,
   "metadata": {},
   "outputs": [],
   "source": [
    "trans_orig = [['B','J','U'], ['B','J','S','U'], ['J','U'], ['B','J','S'], ['S']]\n",
    "\n",
    "# trans_orig = [['D1', 'D2', 'D5'],\n",
    "# ['D2', 'D4'],\n",
    "# ['D2', 'D3'],\n",
    "# ['D1', 'D2', 'D4'],\n",
    "# ['D1', 'D3'],\n",
    "# ['D2', 'D3'],\n",
    "# ['D1', 'D3'],\n",
    "# ['D1', 'D2', 'D3', 'D5'],\n",
    "# ['D1', 'D2', 'D3']]\n",
    "\n",
    "\n",
    "\n",
    "Support_thres = 0.40\n",
    "confidence = 0.80\n",
    "\n",
    "import itertools\n",
    "from tabulate import tabulate\n",
    "\n",
    "# Run this if support threshold is percentage\n",
    "Support_thres = round(((len(trans_orig)/100)*Support_thres)*100,0)\n",
    "print(f'Support Threhold is {Support_thres}')\n",
    "\n",
    "trans = set(list(itertools.chain.from_iterable(trans_orig)))\n",
    "print('unique products - ',trans)\n",
    "\n",
    "for len in range(1,len(max(trans_orig, key=len))+1):\n",
    "    out, out1 = [], []\n",
    "    from itertools import combinations\n",
    "    comb = combinations(trans, len)\n",
    "    for i in list(comb):\n",
    "        counter=0\n",
    "        for y in trans_orig:\n",
    "            if all(x in y for x in i):\n",
    "                counter+=1\n",
    "        out.append([str(i),counter])\n",
    "        if counter >= Support_thres:\n",
    "            out1.append([str(i),counter])\n",
    "#         else:\n",
    "#             trans.discard(i)\n",
    "\n",
    "    print(f'Total list length {len}')\n",
    "    if out!=[]:\n",
    "        print(tabulate(out, tablefmt='fancy_grid'))\n",
    "    else:\n",
    "        print('Empty!')\n",
    "    print(f'Pruned list length {len}')\n",
    "    if out1!=[]:\n",
    "        print(tabulate(out1, tablefmt='fancy_grid'))\n",
    "    else:\n",
    "        print('Empty!')"
   ]
  },
  {
   "cell_type": "code",
   "execution_count": 4,
   "metadata": {
    "ExecuteTime": {
     "end_time": "2021-03-25T08:17:35.877784Z",
     "start_time": "2021-03-25T08:17:35.873795Z"
    }
   },
   "outputs": [],
   "source": [
    "trans_orig = [['B','J','U'], ['B','J','S','U'], ['J','U'], ['B','J','S'], ['S']]\n",
    "\n",
    "# trans_orig = [['D1', 'D2', 'D5'],\n",
    "# ['D2', 'D4'],\n",
    "# ['D2', 'D3'],\n",
    "# ['D1', 'D2', 'D4'],\n",
    "# ['D1', 'D3'],\n",
    "# ['D2', 'D3'],\n",
    "# ['D1', 'D3'],\n",
    "# ['D1', 'D2', 'D3', 'D5'],\n",
    "# ['D1', 'D2', 'D3']]\n",
    "\n",
    "\n",
    "\n",
    "Support_thres = 0.40\n",
    "confidence = 0.80"
   ]
  },
  {
   "cell_type": "code",
   "execution_count": 5,
   "metadata": {
    "ExecuteTime": {
     "end_time": "2021-03-25T08:17:36.472465Z",
     "start_time": "2021-03-25T08:17:36.466926Z"
    }
   },
   "outputs": [],
   "source": [
    "import itertools\n",
    "from tabulate import tabulate"
   ]
  },
  {
   "cell_type": "code",
   "execution_count": 6,
   "metadata": {
    "ExecuteTime": {
     "end_time": "2021-03-25T08:17:37.109705Z",
     "start_time": "2021-03-25T08:17:37.105747Z"
    }
   },
   "outputs": [
    {
     "name": "stdout",
     "output_type": "stream",
     "text": [
      "Support Threhold is 2.0\n"
     ]
    }
   ],
   "source": [
    "# Run this if support threshold is percentage\n",
    "\n",
    "Support_thres = round(((len(trans_orig)/100)*Support_thres)*100,0)\n",
    "print(f'Support Threhold is {Support_thres}')"
   ]
  },
  {
   "cell_type": "code",
   "execution_count": 7,
   "metadata": {
    "ExecuteTime": {
     "end_time": "2021-03-25T08:17:37.711745Z",
     "start_time": "2021-03-25T08:17:37.699249Z"
    }
   },
   "outputs": [
    {
     "data": {
      "text/plain": [
       "{'B', 'J', 'S', 'U'}"
      ]
     },
     "execution_count": 7,
     "metadata": {},
     "output_type": "execute_result"
    }
   ],
   "source": [
    "trans = set(list(itertools.chain.from_iterable(trans_orig)))\n",
    "trans"
   ]
  },
  {
   "cell_type": "code",
   "execution_count": 8,
   "metadata": {
    "ExecuteTime": {
     "end_time": "2021-03-25T08:17:38.330973Z",
     "start_time": "2021-03-25T08:17:38.321996Z"
    }
   },
   "outputs": [
    {
     "name": "stdout",
     "output_type": "stream",
     "text": [
      "Total list length 1\n",
      "╒════════╤═══╕\n",
      "│ ('B',) │ 3 │\n",
      "├────────┼───┤\n",
      "│ ('J',) │ 4 │\n",
      "├────────┼───┤\n",
      "│ ('S',) │ 3 │\n",
      "├────────┼───┤\n",
      "│ ('U',) │ 3 │\n",
      "╘════════╧═══╛\n",
      "Pruned list length 1\n",
      "╒════════╤═══╕\n",
      "│ ('B',) │ 3 │\n",
      "├────────┼───┤\n",
      "│ ('J',) │ 4 │\n",
      "├────────┼───┤\n",
      "│ ('S',) │ 3 │\n",
      "├────────┼───┤\n",
      "│ ('U',) │ 3 │\n",
      "╘════════╧═══╛\n",
      "Total list length 2\n",
      "╒════════════╤═══╕\n",
      "│ ('B', 'J') │ 3 │\n",
      "├────────────┼───┤\n",
      "│ ('B', 'S') │ 2 │\n",
      "├────────────┼───┤\n",
      "│ ('B', 'U') │ 2 │\n",
      "├────────────┼───┤\n",
      "│ ('J', 'S') │ 2 │\n",
      "├────────────┼───┤\n",
      "│ ('J', 'U') │ 3 │\n",
      "├────────────┼───┤\n",
      "│ ('S', 'U') │ 1 │\n",
      "╘════════════╧═══╛\n",
      "Pruned list length 2\n",
      "╒════════════╤═══╕\n",
      "│ ('B', 'J') │ 3 │\n",
      "├────────────┼───┤\n",
      "│ ('B', 'S') │ 2 │\n",
      "├────────────┼───┤\n",
      "│ ('B', 'U') │ 2 │\n",
      "├────────────┼───┤\n",
      "│ ('J', 'S') │ 2 │\n",
      "├────────────┼───┤\n",
      "│ ('J', 'U') │ 3 │\n",
      "╘════════════╧═══╛\n",
      "Total list length 3\n",
      "╒═════════════════╤═══╕\n",
      "│ ('B', 'J', 'S') │ 2 │\n",
      "├─────────────────┼───┤\n",
      "│ ('B', 'J', 'U') │ 2 │\n",
      "├─────────────────┼───┤\n",
      "│ ('B', 'S', 'U') │ 1 │\n",
      "├─────────────────┼───┤\n",
      "│ ('J', 'S', 'U') │ 1 │\n",
      "╘═════════════════╧═══╛\n",
      "Pruned list length 3\n",
      "╒═════════════════╤═══╕\n",
      "│ ('B', 'J', 'S') │ 2 │\n",
      "├─────────────────┼───┤\n",
      "│ ('B', 'J', 'U') │ 2 │\n",
      "╘═════════════════╧═══╛\n",
      "Total list length 4\n",
      "╒══════════════════════╤═══╕\n",
      "│ ('B', 'J', 'S', 'U') │ 1 │\n",
      "╘══════════════════════╧═══╛\n",
      "Pruned list length 4\n",
      "Empty!\n"
     ]
    }
   ],
   "source": [
    "for len in range(1,len(max(trans_orig, key=len))+1):\n",
    "    out, out1 = [], []\n",
    "    from itertools import combinations\n",
    "    comb = combinations(trans, len)\n",
    "    for i in list(comb):\n",
    "        counter=0\n",
    "        for y in trans_orig:\n",
    "            if all(x in y for x in i):\n",
    "                counter+=1\n",
    "        out.append([str(i),counter])\n",
    "        if counter >= Support_thres:\n",
    "            out1.append([str(i),counter])\n",
    "#         else:\n",
    "#             trans.discard(i)\n",
    "\n",
    "    print(f'Total list length {len}')\n",
    "    if out!=[]:\n",
    "        print(tabulate(out, tablefmt='fancy_grid'))\n",
    "    else:\n",
    "        print('Empty!')\n",
    "    print(f'Pruned list length {len}')\n",
    "    if out1!=[]:\n",
    "        print(tabulate(out1, tablefmt='fancy_grid'))\n",
    "    else:\n",
    "        print('Empty!')"
   ]
  }
 ],
 "metadata": {
  "kernelspec": {
   "display_name": "Python 3",
   "language": "python",
   "name": "python3"
  },
  "language_info": {
   "codemirror_mode": {
    "name": "ipython",
    "version": 3
   },
   "file_extension": ".py",
   "mimetype": "text/x-python",
   "name": "python",
   "nbconvert_exporter": "python",
   "pygments_lexer": "ipython3",
   "version": "3.7.4"
  },
  "varInspector": {
   "cols": {
    "lenName": 16,
    "lenType": 16,
    "lenVar": 40
   },
   "kernels_config": {
    "python": {
     "delete_cmd_postfix": "",
     "delete_cmd_prefix": "del ",
     "library": "var_list.py",
     "varRefreshCmd": "print(var_dic_list())"
    },
    "r": {
     "delete_cmd_postfix": ") ",
     "delete_cmd_prefix": "rm(",
     "library": "var_list.r",
     "varRefreshCmd": "cat(var_dic_list()) "
    }
   },
   "types_to_exclude": [
    "module",
    "function",
    "builtin_function_or_method",
    "instance",
    "_Feature"
   ],
   "window_display": false
  }
 },
 "nbformat": 4,
 "nbformat_minor": 2
}
